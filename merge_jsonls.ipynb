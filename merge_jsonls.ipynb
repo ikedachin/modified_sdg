{
 "cells": [
  {
   "cell_type": "code",
   "execution_count": 1,
   "id": "d632423c",
   "metadata": {},
   "outputs": [],
   "source": [
    "import os\n",
    "import glob\n",
    "import json\n"
   ]
  },
  {
   "cell_type": "code",
   "execution_count": 2,
   "id": "6bc13846",
   "metadata": {},
   "outputs": [
    {
     "data": {
      "text/plain": [
       "['./data/final_dataset_api_openai_comp_20250814_1810.jsonl',\n",
       " './data/final_dataset_api_openai_comp_20250814_0704.jsonl',\n",
       " './data/final_dataset_api_openai_comp_20250814_1254.jsonl',\n",
       " './data/final_dataset_api_openai_comp_20250814_2126.jsonl',\n",
       " './data/final_dataset_api_openai_comp_20250814_2020.jsonl',\n",
       " './data/final_dataset_api_openai_comp_20250814_1909.jsonl',\n",
       " './data/final_dataset_api_openai_comp_20250814_0545.jsonl',\n",
       " './data/final_dataset_api_openai_comp_20250811_1743_gpt-oss-120b.jsonl',\n",
       " './data/final_dataset_api_openai_comp_20250814_0928.jsonl',\n",
       " './data/final_dataset_api_openai_comp_20250814_0811.jsonl',\n",
       " './data/final_dataset_api_openai_comp_20250814_2241.jsonl',\n",
       " './data/final_dataset_api_openai_comp_20250814_1718.jsonl',\n",
       " './data/final_dataset_api_openai_comp_20250814_0424.jsonl',\n",
       " './data/final_dataset_api_openai_comp_20250814_1558.jsonl',\n",
       " './data/final_dataset_api_openai_comp_20250814_1359.jsonl',\n",
       " './data/final_dataset_api_openai_comp_20250813_2316.jsonl',\n",
       " './data/final_dataset_api_openai_comp_20250814_1026.jsonl',\n",
       " './data/generated_questions.jsonl',\n",
       " './data/final_dataset_api_openai_comp_20250814_1141.jsonl',\n",
       " './data/final_dataset_api_openai_comp_20250814_0038.jsonl',\n",
       " './data/final_dataset_api_openai_comp_20250814_1451.jsonl',\n",
       " './data/final_dataset_api_openai_comp_20250814_0159.jsonl',\n",
       " './data/final_dataset_api_openai_comp_20250813_2153.jsonl',\n",
       " './data/final_dataset_api_openai_comp_20250814_0302.jsonl']"
      ]
     },
     "execution_count": 2,
     "metadata": {},
     "output_type": "execute_result"
    }
   ],
   "source": [
    "files = glob.glob('./data/*.jsonl')\n",
    "files"
   ]
  },
  {
   "cell_type": "code",
   "execution_count": 3,
   "id": "703e06b4",
   "metadata": {},
   "outputs": [
    {
     "data": {
      "text/plain": [
       "['./data/final_dataset_api_openai_comp_20250814_1810.jsonl',\n",
       " './data/final_dataset_api_openai_comp_20250814_0704.jsonl',\n",
       " './data/final_dataset_api_openai_comp_20250814_1254.jsonl',\n",
       " './data/final_dataset_api_openai_comp_20250814_2126.jsonl',\n",
       " './data/final_dataset_api_openai_comp_20250814_2020.jsonl',\n",
       " './data/final_dataset_api_openai_comp_20250814_1909.jsonl',\n",
       " './data/final_dataset_api_openai_comp_20250814_0545.jsonl',\n",
       " './data/final_dataset_api_openai_comp_20250814_0928.jsonl',\n",
       " './data/final_dataset_api_openai_comp_20250814_0811.jsonl',\n",
       " './data/final_dataset_api_openai_comp_20250814_2241.jsonl',\n",
       " './data/final_dataset_api_openai_comp_20250814_1718.jsonl',\n",
       " './data/final_dataset_api_openai_comp_20250814_0424.jsonl',\n",
       " './data/final_dataset_api_openai_comp_20250814_1558.jsonl',\n",
       " './data/final_dataset_api_openai_comp_20250814_1359.jsonl',\n",
       " './data/final_dataset_api_openai_comp_20250813_2316.jsonl',\n",
       " './data/final_dataset_api_openai_comp_20250814_1026.jsonl',\n",
       " './data/final_dataset_api_openai_comp_20250814_1141.jsonl',\n",
       " './data/final_dataset_api_openai_comp_20250814_0038.jsonl',\n",
       " './data/final_dataset_api_openai_comp_20250814_1451.jsonl',\n",
       " './data/final_dataset_api_openai_comp_20250814_0159.jsonl',\n",
       " './data/final_dataset_api_openai_comp_20250813_2153.jsonl',\n",
       " './data/final_dataset_api_openai_comp_20250814_0302.jsonl']"
      ]
     },
     "execution_count": 3,
     "metadata": {},
     "output_type": "execute_result"
    }
   ],
   "source": [
    "files = [f for f in files if 'oss' not in f]\n",
    "files = [f for f in files if 'final' in f]\n",
    "\n",
    "files"
   ]
  },
  {
   "cell_type": "code",
   "execution_count": 4,
   "id": "6793a48d",
   "metadata": {},
   "outputs": [
    {
     "data": {
      "text/plain": [
       "22"
      ]
     },
     "execution_count": 4,
     "metadata": {},
     "output_type": "execute_result"
    }
   ],
   "source": [
    "len(files)"
   ]
  },
  {
   "cell_type": "code",
   "execution_count": 5,
   "id": "2ebe64d6",
   "metadata": {},
   "outputs": [],
   "source": [
    "\n",
    "merged_data = []\n",
    "for file in files:\n",
    "    with open(file, 'r', encoding='utf-8') as f:\n",
    "        for line in f:\n",
    "            merged_data.append(json.loads(line))\n",
    "\n",
    "with open('./data/test.jsonl', 'w', encoding='utf-8') as f:\n",
    "    for item in merged_data:\n",
    "        f.write(json.dumps(item, ensure_ascii=False) + '\\n')"
   ]
  },
  {
   "cell_type": "code",
   "execution_count": null,
   "id": "426b16a5",
   "metadata": {},
   "outputs": [],
   "source": []
  }
 ],
 "metadata": {
  "kernelspec": {
   "display_name": "sdg",
   "language": "python",
   "name": "python3"
  },
  "language_info": {
   "codemirror_mode": {
    "name": "ipython",
    "version": 3
   },
   "file_extension": ".py",
   "mimetype": "text/x-python",
   "name": "python",
   "nbconvert_exporter": "python",
   "pygments_lexer": "ipython3",
   "version": "3.11.9"
  }
 },
 "nbformat": 4,
 "nbformat_minor": 5
}
